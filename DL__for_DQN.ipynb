{
  "nbformat": 4,
  "nbformat_minor": 0,
  "metadata": {
    "colab": {
      "provenance": [],
      "authorship_tag": "ABX9TyN3QrLZwXe6XH1aOC4h+kYB",
      "include_colab_link": true
    },
    "kernelspec": {
      "name": "python3",
      "display_name": "Python 3"
    },
    "language_info": {
      "name": "python"
    }
  },
  "cells": [
    {
      "cell_type": "markdown",
      "metadata": {
        "id": "view-in-github",
        "colab_type": "text"
      },
      "source": [
        "<a href=\"https://colab.research.google.com/github/MahtabDastranj/Reinforcement-Learning/blob/main/DL__for_DQN.ipynb\" target=\"_parent\"><img src=\"https://colab.research.google.com/assets/colab-badge.svg\" alt=\"Open In Colab\"/></a>"
      ]
    },
    {
      "cell_type": "code",
      "execution_count": null,
      "metadata": {
        "id": "HOX8Jo3Ldm3c"
      },
      "outputs": [],
      "source": [
        "import tensorflow as tf\n",
        "import numpy as np\n",
        "import matplotlib.pyplot as plt"
      ]
    },
    {
      "cell_type": "code",
      "source": [
        "mnist = tf.keras.datasets.mnist\n",
        "(x_train, y_train), (x_test, y_test) = mnist.load_data()\n",
        "x_train = tf.keras.utils.normalize(x_train, axis=1)\n",
        "'''\n",
        "normalize(): Normalizes the pixel values to a range of 0 to 1\n",
        "(from the original 0 to 255) by dividing each pixel value by 255. This helps\n",
        "the neural network to train more effectively.\n",
        "'''\n",
        "x_test = tf.keras.utils.normalize(x_test, axis=1)\n",
        "'''Sequential(): A linear stack of layers. Here, it’s used to build a simple\n",
        "feedforward neural network.'''\n",
        "model  = tf.keras.models.Sequential()\n",
        "# Input layer\n",
        "'''\n",
        "Flatten(): Converts the 2D input (28x28 pixels) into a 1D array (784 pixels)\n",
        "so that it can be fed into the fully connected layers. This layer does not have\n",
        "any neurons; it's just a reshape operation.'''\n",
        "model.add(tf.keras.layers.Flatten())\n",
        "# Hidden layer\n",
        "'''Dense: A dense layer (fully connected layer) where each neuron is connected\n",
        "to every neuron in the previous layer.\n",
        "128: The number of neurons in this layer.\n",
        "activation=tf.nn.relu: The ReLU activation function is applied to the outputs of\n",
        "the neurons. ReLU stands for Rectified Linear Unit, and it helps introduce\n",
        "non-linearity into the model.'''\n",
        "model.add(tf.keras.layers.Dense(128, activation=tf.nn.relu))\n",
        "model.add(tf.keras.layers.Dense(128, activation=tf.nn.relu))\n",
        "# Output layer\n",
        "'''10: The number of classes in the MNIST dataset (digits 0-9).\n",
        "activation=tf.nn.softmax: The softmax activation function is applied to the\n",
        "output, converting the raw output into probabilities for each class.'''\n",
        "model.add(tf.keras.layers.Dense(10, activation=tf.nn.softmax))\n",
        "'''optimizer='adam': Adam optimizer is used to adjust the weights based on the\n",
        "loss function. loss='sparse_categorical_crossentropy': The loss function used\n",
        "for classification problems where the target labels are integers. metrics=\n",
        "['accuracy']: The model will track accuracy during training and testing.'''\n",
        "model.compile(optimizer='adam', loss='sparse_categorical_crossentropy', metrics=['accuracy'])\n",
        "'''model.fit(x_train, y_train, epochs=3): Trains the model for 3 epochs\n",
        "(iterations over the entire training dataset).'''\n",
        "model.fit(x_train, y_train, epochs=3)\n",
        "plt.imshow(x_train[0])\n",
        "plt.show()"
      ],
      "metadata": {
        "collapsed": true,
        "id": "ZLNGpur9frso"
      },
      "execution_count": null,
      "outputs": []
    },
    {
      "cell_type": "code",
      "source": [
        "val_loss, val_acc = model.evaluate(x_test, y_test)\n",
        "print(val_loss, val_acc)\n",
        "\n",
        "# If there is so much difference the model has probably overfit\n",
        "model.save('epic_num_reader.model.h5')  # No need to include custom_objects when saving the model\n",
        "\n",
        "new_model = tf.keras.models.load_model('epic_num_reader.model.h5', custom_objects={'softmax_v2': tf.nn.softmax})\n",
        "# Include custom_objects only when loading the model if needed\n",
        "\n",
        "predictions = new_model.predict(x_test)\n",
        "print(np.argmax(predictions[0]))\n",
        "\n",
        "plt.imshow(x_test[0])\n",
        "plt.show()\n"
      ],
      "metadata": {
        "collapsed": true,
        "id": "D5XRTpZHnONG"
      },
      "execution_count": null,
      "outputs": []
    }
  ]
}