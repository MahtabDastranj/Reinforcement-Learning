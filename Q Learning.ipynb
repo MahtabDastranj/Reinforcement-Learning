{
 "cells": [
  {
   "metadata": {},
   "cell_type": "markdown",
   "source": "Requirements",
   "id": "a0a7b122aac36da0"
  },
  {
   "cell_type": "code",
   "execution_count": null,
   "id": "initial_id",
   "metadata": {
    "collapsed": true
   },
   "outputs": [],
   "source": "!pip install gym"
  },
  {
   "metadata": {},
   "cell_type": "code",
   "outputs": [],
   "execution_count": null,
   "source": [
    "import gym\n",
    "import matplotlib.pyplot as plt"
   ],
   "id": "ac95364690091c1c"
  },
  {
   "metadata": {},
   "cell_type": "markdown",
   "source": "Getting Started",
   "id": "20f7b853dbbb084e"
  },
  {
   "metadata": {},
   "cell_type": "code",
   "outputs": [],
   "execution_count": null,
   "source": [
    "env = gym.make(\"MountainCar-v0\")\n",
    "env.reset()\n",
    "\n",
    "print(env.observation_space.high)\n",
    "print(env.observation_space.low)\n",
    "print(env.action_space.n)"
   ],
   "id": "58cbc96298280877"
  },
  {
   "metadata": {},
   "cell_type": "markdown",
   "source": "Converting infinite continuous amount to discrete ones",
   "id": "2f01995a53d4ccac"
  },
  {
   "metadata": {},
   "cell_type": "code",
   "outputs": [],
   "execution_count": null,
   "source": [
    "# Discrete observation space size, seperating the range into 20 buckets( discrete values)\n",
    "DISCRETE_OS_SIZE = [20] * len(env.observation_space.high)\n",
    "# Bucket Size\n",
    "discrete_os_win_size = (env.observation_space.high - env.observation_space.low) / DISCRETE_OS_SIZE"
   ],
   "id": "f8e537f4956b3523"
  },
  {
   "metadata": {},
   "cell_type": "markdown",
   "source": "Creating Q table",
   "id": "e2de9fbbbdb2687"
  }
 ],
 "metadata": {
  "kernelspec": {
   "display_name": "Python 3",
   "language": "python",
   "name": "python3"
  },
  "language_info": {
   "codemirror_mode": {
    "name": "ipython",
    "version": 2
   },
   "file_extension": ".py",
   "mimetype": "text/x-python",
   "name": "python",
   "nbconvert_exporter": "python",
   "pygments_lexer": "ipython2",
   "version": "2.7.6"
  }
 },
 "nbformat": 4,
 "nbformat_minor": 5
}
