{
 "cells": [
  {
   "metadata": {},
   "cell_type": "markdown",
   "source": "Requirements",
   "id": "a0a7b122aac36da0"
  },
  {
   "cell_type": "code",
   "execution_count": null,
   "id": "initial_id",
   "metadata": {
    "collapsed": true
   },
   "outputs": [],
   "source": "!pip install gym"
  },
  {
   "metadata": {},
   "cell_type": "code",
   "outputs": [],
   "execution_count": null,
   "source": [
    "import gym\n",
    "import matplotlib.pyplot as plt\n",
    "from mpl_toolkits.mplot3d import axes3d\n",
    "import matplotlib.pyplot as plt\n",
    "from matplotlib import style\n",
    "import numpy as np\n",
    "import os\n",
    "import cv2"
   ],
   "id": "ac95364690091c1c"
  },
  {
   "metadata": {},
   "cell_type": "markdown",
   "source": "Getting Started",
   "id": "20f7b853dbbb084e"
  },
  {
   "metadata": {},
   "cell_type": "code",
   "outputs": [],
   "execution_count": null,
   "source": [
    "env = gym.make(\"MountainCar-v0\")\n",
    "env.reset()\n",
    "\n",
    "print(env.observation_space.high)\n",
    "print(env.observation_space.low)\n",
    "print(env.action_space.n)"
   ],
   "id": "58cbc96298280877"
  },
  {
   "metadata": {},
   "cell_type": "markdown",
   "source": "Converting infinite continuous amount to discrete ones",
   "id": "2f01995a53d4ccac"
  },
  {
   "metadata": {},
   "cell_type": "code",
   "outputs": [],
   "execution_count": null,
   "source": [
    "# Discrete observation space size, seperating the range into 20 buckets( discrete values)\n",
    "DISCRETE_OS_SIZE = [20] * len(env.observation_space.high)\n",
    "# Bucket Size\n",
    "discrete_os_win_size = (env.observation_space.high - env.observation_space.low) / DISCRETE_OS_SIZE"
   ],
   "id": "f8e537f4956b3523"
  },
  {
   "metadata": {},
   "cell_type": "markdown",
   "source": "Creating Q table",
   "id": "e2de9fbbbdb2687"
  },
  {
   "metadata": {},
   "cell_type": "markdown",
   "source": "Iterating over every 10 Q tables and saving the chart:",
   "id": "97b49bbd52fb1ce0"
  },
  {
   "metadata": {},
   "cell_type": "code",
   "outputs": [],
   "execution_count": null,
   "source": [
    "style.use('ggplot')\n",
    "\n",
    "\n",
    "def get_q_color(value, vals):\n",
    "    if value == max(vals):\n",
    "        return \"green\", 1.0\n",
    "    else:\n",
    "        return \"red\", 0.3\n",
    "\n",
    "\n",
    "fig = plt.figure(figsize=(12, 9))\n",
    "\n",
    "\n",
    "for i in range(0, 25000, 10):\n",
    "    print(i)\n",
    "    ax1 = fig.add_subplot(311)\n",
    "    ax2 = fig.add_subplot(312)\n",
    "    ax3 = fig.add_subplot(313)\n",
    "\n",
    "    q_table = np.load(f\"qtables/{i}-qtable.npy\")\n",
    "\n",
    "    for x, x_vals in enumerate(q_table):\n",
    "        for y, y_vals in enumerate(x_vals):\n",
    "            ax1.scatter(x, y, c=get_q_color(y_vals[0], y_vals)[0], marker=\"o\", alpha=get_q_color(y_vals[0], y_vals)[1])\n",
    "            ax2.scatter(x, y, c=get_q_color(y_vals[1], y_vals)[0], marker=\"o\", alpha=get_q_color(y_vals[1], y_vals)[1])\n",
    "            ax3.scatter(x, y, c=get_q_color(y_vals[2], y_vals)[0], marker=\"o\", alpha=get_q_color(y_vals[2], y_vals)[1])\n",
    "\n",
    "            ax1.set_ylabel(\"Action 0\")\n",
    "            ax2.set_ylabel(\"Action 1\")\n",
    "            ax3.set_ylabel(\"Action 2\")\n",
    "\n",
    "    #plt.show()\n",
    "    plt.savefig(f\"qtable_charts/{i}.png\")\n",
    "    plt.clf()"
   ],
   "id": "eb26bd121ef99ef4"
  },
  {
   "metadata": {},
   "cell_type": "markdown",
   "source": "Converting images into a video",
   "id": "faf81fe31a422d99"
  },
  {
   "metadata": {},
   "cell_type": "code",
   "outputs": [],
   "execution_count": null,
   "source": [
    "def make_video():\n",
    "    # windows:\n",
    "    fourcc = cv2.VideoWriter_fourcc(*'XVID')\n",
    "    out = cv2.VideoWriter('qlearn.avi', fourcc, 60.0, (1200, 900))\n",
    "\n",
    "    for i in range(0, 14000, 10):\n",
    "        img_path = f\"qtable_charts/{i}.png\"\n",
    "        print(img_path)\n",
    "        frame = cv2.imread(img_path)\n",
    "        out.write(frame)\n",
    "\n",
    "    out.release()\n",
    "\n",
    "\n",
    "make_video()"
   ],
   "id": "da2a890c2056975a"
  }
 ],
 "metadata": {
  "kernelspec": {
   "display_name": "Python 3",
   "language": "python",
   "name": "python3"
  },
  "language_info": {
   "codemirror_mode": {
    "name": "ipython",
    "version": 2
   },
   "file_extension": ".py",
   "mimetype": "text/x-python",
   "name": "python",
   "nbconvert_exporter": "python",
   "pygments_lexer": "ipython2",
   "version": "2.7.6"
  }
 },
 "nbformat": 4,
 "nbformat_minor": 5
}
